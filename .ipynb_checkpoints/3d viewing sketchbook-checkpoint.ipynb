{
 "cells": [
  {
   "cell_type": "code",
   "execution_count": 2,
   "metadata": {
    "collapsed": true
   },
   "outputs": [],
   "source": [
    "from ScatterSim.NanoObjects import SphereNanoObject,CylinderNanoObject, PolydisperseNanoObject\n",
    "# We'll import a few lattices, cubic, FCC, BCC and Diamond\n",
    "from ScatterSim.LatticeObjects import Lattice, SimpleCubic, FCCLattice, BCCLattice, DiamondTwoParticleLattice\n",
    "# import the peak shape for the peaks, tunable\n",
    "from ScatterSim.PeakShape import PeakShape\n",
    "from ScatterSim.CompositeNanoObjects import CompositeNanoObject, OctahedronNanoObject, OctahedronCylindersNanoObject\n",
    "from ScatterSim.Background import Background\n",
    "\n",
    "import numpy as np\n",
    "import matplotlib.pyplot as plt\n",
    "%matplotlib notebook"
   ]
  },
  {
   "cell_type": "code",
   "execution_count": 1,
   "metadata": {
    "collapsed": true
   },
   "outputs": [],
   "source": [
    "#import mayavi\n",
    "#https://stackoverflow.com/questions/24752693/python-matplotlib-3d-surface-plot/24784471#24784471"
   ]
  },
  {
   "cell_type": "code",
   "execution_count": null,
   "metadata": {
    "collapsed": true
   },
   "outputs": [],
   "source": [
    "q = np.linspace(0.1, 10, 1000)\n",
    "octahedron_ff = octahedron.form_factor_squared_isotropic(q)\n",
    "\n",
    "\n",
    "\n",
    "#plt.subplot(2,1,2)\n",
    "fig1 = plt.figure('')\n",
    "q = np.linspace(0.1, 10, 1000)\n",
    "plt.loglog(q,octahedron_ff,color='k', label=\"octahedron_cylinders\")\n",
    "plt.imshow(Vi_xy)"
   ]
  },
  {
   "cell_type": "code",
   "execution_count": null,
   "metadata": {
    "collapsed": true
   },
   "outputs": [],
   "source": [
    "#from mayavi.mlab import mesh\n",
    "def test_mesh():\n",
    "    \"\"\"A very pretty picture of spherical harmonics translated from\n",
    "    the octaviz example.\"\"\"\n",
    "    pi = np.pi\n",
    "    cos = np.cos\n",
    "    sin = np.sin\n",
    "    dphi, dtheta = pi / 250.0, pi / 250.0\n",
    "    [phi, theta] = np.mgrid[0:pi + dphi * 1.5:dphi,\n",
    "                               0:2 * pi + dtheta * 1.5:dtheta]\n",
    "    m0 = 4\n",
    "    m1 = 3\n",
    "    m2 = 2\n",
    "    m3 = 3\n",
    "    m4 = 6\n",
    "    m5 = 2\n",
    "    m6 = 6\n",
    "    m7 = 4\n",
    "    r = sin(m0 * phi) ** m1 + cos(m2 * phi) ** m3 + \\\n",
    "        sin(m4 * theta) ** m5 + cos(m6 * theta) ** m7\n",
    "    x = r * sin(phi) * cos(theta)\n",
    "    y = r * cos(phi)\n",
    "    z = r * sin(phi) * sin(theta)\n",
    "\n",
    "    return mesh(x, y, z, colormap=\"bone\")\n",
    "#test_mesh()"
   ]
  },
  {
   "cell_type": "code",
   "execution_count": null,
   "metadata": {
    "collapsed": true
   },
   "outputs": [],
   "source": [
    "from mpl_toolkits.mplot3d import axes3d\n",
    "import matplotlib.pyplot as plt,numpy as np\n",
    "import pandas as pd\n",
    "from pandas import DataFrame\n",
    "plt.clf()\n",
    "fig = plt.figure(10)\n",
    "ax = fig.gca(projection='3d')\n",
    "\n",
    "length = 10\n",
    "npoints = 100\n",
    "x = np.linspace(-length, length, npoints)\n",
    "# ij indexing means that we index in V[x,y,z]\n",
    "# Note that rightermost index is fastest varying index\n",
    "x, y, z = np.meshgrid(x,x,x,indexing='ij')\n",
    "V = octahedron.V(np.array([x,y,z]))\n",
    "\n",
    "x1 = np.s_[0:100, 0, 0:100]\n",
    "y1 = np.s_[0,0:100, 0:100]\n",
    "z1 = np.s_[0:100,0:100,0]\n",
    "\n",
    "ax.contourf(V)"
   ]
  },
  {
   "cell_type": "code",
   "execution_count": null,
   "metadata": {
    "collapsed": true
   },
   "outputs": [],
   "source": [
    "import numpy as np\n",
    "#import time\n",
    "#import matplotlib.pyplot as plt\n",
    "import scipy.io as c\n",
    "import pylab as pl                     #added \n",
    "\n",
    "\n",
    "\n",
    "length = 10\n",
    "npoints = 100\n",
    "x = np.linspace(-length, length, npoints)\n",
    "# ij indexing means that we index in V[x,y,z]\n",
    "# Note that rightermost index is fastest varying index\n",
    "x, y, z = np.meshgrid(x,x,x,indexing='ij')\n",
    "V = octahedron.V(np.array([x,y,z]))\n",
    "\n",
    "\n",
    "#datafile = c.loadmat('data.mat') # loading data\n",
    "img = V # extracting the (100:100:100) array \n",
    "imgShape = np.shape(img) \n",
    "pl.ion()                               #added \n",
    "for i in range(len(V)):           #no need for 0\n",
    "    pl.cla()                           #added\n",
    "    pl.contourf(img[:,:,50])\n",
    "#    time.sleep(0.3) \n",
    "    pl.draw()\n",
    "#    pl.pause(0.3)                      #added   \n",
    "pl.ioff()                              #added\n",
    "pl.show()\n",
    "print('Done!')\n"
   ]
  },
  {
   "cell_type": "code",
   "execution_count": null,
   "metadata": {
    "collapsed": true
   },
   "outputs": [],
   "source": [
    "\n",
    "for i in range(len(img)):\n",
    "    plt.contourf(img[:,:,i])\n",
    "    plt.draw()\n",
    "plt.show()"
   ]
  },
  {
   "cell_type": "code",
   "execution_count": null,
   "metadata": {
    "collapsed": true
   },
   "outputs": [],
   "source": [
    "fig = plt.figure()\n",
    "ax = fig.gca(projection='3d')\n",
    "for i in range(len(img)):\n",
    "    plt.contourf(img[i,:,:],zdir='z')\n",
    "plt.show()"
   ]
  },
  {
   "cell_type": "code",
   "execution_count": null,
   "metadata": {
    "collapsed": true
   },
   "outputs": [],
   "source": [
    "u = np.linspace(0, 2 * np.pi, 100)\n",
    "v = np.linspace(0, np.pi, 100)\n",
    "x = 10 * np.outer(np.cos(u), np.sin(v))\n",
    "y = 10 * np.outer(np.sin(u), np.sin(v))\n",
    "z = 10 * np.outer(np.ones(np.size(u)), np.cos(v))\n",
    "\n"
   ]
  },
  {
   "cell_type": "code",
   "execution_count": null,
   "metadata": {
    "collapsed": true
   },
   "outputs": [],
   "source": [
    "\n",
    "from mpl_toolkits.mplot3d import Axes3D\n",
    "from matplotlib import cbook\n",
    "from matplotlib import cm\n",
    "from matplotlib.colors import LightSource\n",
    "import matplotlib.pyplot as plt\n",
    "import numpy as np\n",
    "\n",
    "filename = cbook.get_sample_data('jacksboro_fault_dem.npz', asfileobj=False)\n",
    "with np.load(filename) as dem:\n",
    "    z = dem['elevation']\n",
    "    nrows, ncols = z.shape\n",
    "    x = np.linspace(dem['xmin'], dem['xmax'], ncols)\n",
    "    y = np.linspace(dem['ymin'], dem['ymax'], nrows)\n",
    "    x, y = np.meshgrid(x, y)\n",
    "\n",
    "region = np.s_[5:50, 5:50]\n",
    "x, y, z = x[region], y[region], z[region]\n",
    "\n",
    "fig, ax = plt.subplots(subplot_kw=dict(projection='3d'))\n",
    "\n",
    "ls = LightSource(270, 45)\n",
    "# To use a custom hillshading mode, override the built-in shading and pass\n",
    "# in the rgb colors of the shaded surface calculated from \"shade\".\n",
    "rgb = ls.shade(z, cmap=cm.gist_earth, vert_exag=0.1, blend_mode='soft')\n",
    "surf = ax.plot_surface(x, y, z, rstride=1, cstride=1, facecolors=rgb,\n",
    "                       linewidth=0, antialiased=False, shade=False)\n",
    "ax.set_xticks([])\n",
    "ax.set_yticks([])\n",
    "ax.set_zticks([])\n",
    "fig.savefig(\"surface3d_frontpage.png\", dpi=25)  # results in 160x120 px image"
   ]
  },
  {
   "cell_type": "code",
   "execution_count": null,
   "metadata": {
    "collapsed": true
   },
   "outputs": [],
   "source": [
    "from mpl_toolkits.mplot3d import axes3d\n",
    "import matplotlib.pyplot as plt,numpy as np\n",
    "plt.clf()\n",
    "fig = plt.figure(1)\n",
    "ax = fig.gca(projection='3d')\n",
    "X, Y, Z = axes3d.get_test_data(0.05)\n",
    "ax.plot_surface(X, Y, Z, rstride=8, cstride=8, alpha=0.3)\n",
    "cset = ax.contourf(X, Y, Z, zdir='z', offset=-100,\n",
    "        levels=np.linspace(-100,100,1200),cmap=plt.cm.jet)\n",
    "cset = ax.contourf(X, Y, Z, zdir='x', offset=-40, cmap=plt.cm.jet)\n",
    "cset = ax.contourf(X, Y, Z, zdir='y', offset=40, cmap=plt.cm.jet)\n",
    "ax.set_xlabel('X')\n",
    "ax.set_xlim(-40, 40)\n",
    "ax.set_ylabel('Y')\n",
    "ax.set_ylim(-40, 40)\n",
    "ax.set_zlabel('Z')\n",
    "ax.set_zlim(-100, 100)    \n",
    "plt.show()"
   ]
  }
 ],
 "metadata": {
  "kernelspec": {
   "display_name": "Python 3",
   "language": "python",
   "name": "python3"
  },
  "language_info": {
   "codemirror_mode": {
    "name": "ipython",
    "version": 3
   },
   "file_extension": ".py",
   "mimetype": "text/x-python",
   "name": "python",
   "nbconvert_exporter": "python",
   "pygments_lexer": "ipython3",
   "version": "3.6.0"
  }
 },
 "nbformat": 4,
 "nbformat_minor": 2
}

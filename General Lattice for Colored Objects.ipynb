{
 "cells": [
  {
   "cell_type": "code",
   "execution_count": 59,
   "metadata": {
    "collapsed": true
   },
   "outputs": [],
   "source": [
    "from ScatterSim.NanoObjects import SphereNanoObject,CylinderNanoObject, PolydisperseNanoObject\n",
    "# We'll import a few lattices, cubic, FCC, BCC and Diamond\n",
    "from ScatterSim.LatticeObjects import Lattice, SimpleCubic, FCCLattice, BCCLattice, DiamondTwoParticleLattice\n",
    "from ScatterSim.CustomLattices import BCCLatticeColor\n",
    "# import the peak shape for the peaks, tunable\n",
    "from ScatterSim.PeakShape import PeakShape\n",
    "from ScatterSim.CompositeNanoObjects import CompositeNanoObject, OctahedronNanoObject, OctahedronCylindersNanoObject\n",
    "from ScatterSim.Background import Background\n",
    "\n",
    "import numpy as np\n",
    "import matplotlib.pyplot as plt\n",
    "%matplotlib inline"
   ]
  },
  {
   "cell_type": "code",
   "execution_count": 60,
   "metadata": {
    "collapsed": true
   },
   "outputs": [],
   "source": [
    "def show_projections(V_xy, V_xz, V_yz, height, num=4):\n",
    "    '''plot the xy, xz, and yz projections with height used from \n",
    "        projections function, in figure num\n",
    "    '''\n",
    "    extent = [-height, height, height, -height]\n",
    "    plt.figure(num);plt.clf();\n",
    "    plt.subplot(2,2,1)\n",
    "    plt.title(\"x-y plane\")\n",
    "    plt.imshow(V_xy,extent=extent)\n",
    "    plt.subplot(2,2,2)\n",
    "    plt.title(\"y-z plane\")\n",
    "    plt.imshow(V_yz,extent=extent)\n",
    "    plt.subplot(2,2,3)\n",
    "    plt.title(\"x-z plane\")\n",
    "    plt.imshow(V_xz,extent=extent)"
   ]
  },
  {
   "cell_type": "code",
   "execution_count": 130,
   "metadata": {
    "collapsed": true
   },
   "outputs": [],
   "source": [
    "#linker = 10\n",
    "#edgelength = 30+linker\n",
    "edgelength = 10\n",
    "positions = np.array([\n",
    "    [0, 0, 0],\n",
    "    [0.5, 0.5, 0.5]\n",
    "    ])\n",
    "\n",
    "A=pargs_sphere_10 = {'radius':10}\n",
    "B=pargs_sphere_20 = {'radius':20}\n",
    "C=pargs_sphere_30 = {'radius':30}\n",
    "types = list([A,A,A,A,C,C])\n",
    "parg_all = list()\n",
    "objlist = list()"
   ]
  },
  {
   "cell_type": "code",
   "execution_count": 131,
   "metadata": {
    "collapsed": false
   },
   "outputs": [],
   "source": [
    "for idx, val in enumerate(positions):\n",
    "    parg = types[idx].copy()\n",
    "    parg['x0']=val[0]\n",
    "    parg['y0']=val[1]\n",
    "    parg['z0']=val[2]\n",
    "    parg_all.append(parg)\n",
    "    objlist.append(SphereNanoObject)\n",
    "#parg_all"
   ]
  },
  {
   "cell_type": "code",
   "execution_count": null,
   "metadata": {
    "collapsed": false
   },
   "outputs": [],
   "source": []
  },
  {
   "cell_type": "code",
   "execution_count": 58,
   "metadata": {
    "collapsed": false
   },
   "outputs": [
    {
     "data": {
      "text/plain": [
       "{'delta_rho': 15.0,\n",
       " 'eta': array(0),\n",
       " 'phi': array(0),\n",
       " 'radius': 1,\n",
       " 'rho_ambient': 0.0,\n",
       " 'rho_object': 15.0,\n",
       " 'theta': array(0),\n",
       " 'x0': array(1),\n",
       " 'y0': array(1),\n",
       " 'z0': array(0)}"
      ]
     },
     "execution_count": 58,
     "metadata": {},
     "output_type": "execute_result"
    }
   ],
   "source": [
    "y = {'x0':1,'y0':1,'z0':1}\n",
    "sphere.set_origin()\n",
    "sphere.pargs"
   ]
  },
  {
   "cell_type": "code",
   "execution_count": 138,
   "metadata": {
    "collapsed": false
   },
   "outputs": [
    {
     "ename": "IndexError",
     "evalue": "index 1 is out of bounds for axis 1 with size 1",
     "output_type": "error",
     "traceback": [
      "\u001b[0;31m---------------------------------------------------------------------------\u001b[0m",
      "\u001b[0;31mIndexError\u001b[0m                                Traceback (most recent call last)",
      "\u001b[0;32m<ipython-input-138-f5b8a5c51de8>\u001b[0m in \u001b[0;36m<module>\u001b[0;34m()\u001b[0m\n\u001b[1;32m     15\u001b[0m }\n\u001b[1;32m     16\u001b[0m \u001b[1;33m\u001b[0m\u001b[0m\n\u001b[0;32m---> 17\u001b[0;31m \u001b[0mlat_gen\u001b[0m \u001b[1;33m=\u001b[0m \u001b[0mLattice\u001b[0m\u001b[1;33m(\u001b[0m\u001b[1;33m(\u001b[0m\u001b[0msphere\u001b[0m\u001b[1;33m,\u001b[0m\u001b[0msphere2\u001b[0m\u001b[1;33m)\u001b[0m\u001b[1;33m,\u001b[0m\u001b[1;36m10\u001b[0m\u001b[1;33m,\u001b[0m\u001b[1;36m10\u001b[0m\u001b[1;33m,\u001b[0m\u001b[1;36m10\u001b[0m\u001b[1;33m,\u001b[0m\u001b[1;36m90\u001b[0m\u001b[1;33m,\u001b[0m\u001b[1;36m90\u001b[0m\u001b[1;33m,\u001b[0m\u001b[1;36m90\u001b[0m\u001b[1;33m,\u001b[0m\u001b[1;36m0.01\u001b[0m\u001b[1;33m,\u001b[0m\u001b[1;32mNone\u001b[0m\u001b[1;33m,\u001b[0m\u001b[0mpositions\u001b[0m\u001b[1;33m,\u001b[0m\u001b[1;32mNone\u001b[0m\u001b[1;33m,\u001b[0m\u001b[1;33m[\u001b[0m\u001b[1;36m1\u001b[0m\u001b[1;33m,\u001b[0m\u001b[1;36m2\u001b[0m\u001b[1;33m]\u001b[0m\u001b[1;33m)\u001b[0m\u001b[1;33m\u001b[0m\u001b[0m\n\u001b[0m",
      "\u001b[0;32mc:\\users\\aaron\\documents\\py36\\software\\scattersim\\ScatterSim\\LatticeObjects.py\u001b[0m in \u001b[0;36m__init__\u001b[0;34m(self, objects, lattice_spacing_a, lattice_spacing_b, lattice_spacing_c, alpha, beta, gamma, sigma_D, lattice_positions, lattice_coordinates, symmetry, lattice_types)\u001b[0m\n\u001b[1;32m    145\u001b[0m         \u001b[0mself\u001b[0m\u001b[1;33m.\u001b[0m\u001b[0mlattice_types\u001b[0m \u001b[1;33m=\u001b[0m \u001b[0mnp\u001b[0m\u001b[1;33m.\u001b[0m\u001b[0marray\u001b[0m\u001b[1;33m(\u001b[0m\u001b[0mself\u001b[0m\u001b[1;33m.\u001b[0m\u001b[0mlattice_types\u001b[0m\u001b[1;33m)\u001b[0m\u001b[1;33m[\u001b[0m\u001b[0morder\u001b[0m\u001b[1;33m]\u001b[0m\u001b[1;33m\u001b[0m\u001b[0m\n\u001b[1;32m    146\u001b[0m         \u001b[0mself\u001b[0m\u001b[1;33m.\u001b[0m\u001b[0mlattice_coordinates\u001b[0m \u001b[1;33m=\u001b[0m \u001b[0mnp\u001b[0m\u001b[1;33m.\u001b[0m\u001b[0marray\u001b[0m\u001b[1;33m(\u001b[0m\u001b[0mself\u001b[0m\u001b[1;33m.\u001b[0m\u001b[0mlattice_coordinates\u001b[0m\u001b[1;33m)\u001b[0m\u001b[1;33m[\u001b[0m\u001b[0morder\u001b[0m\u001b[1;33m]\u001b[0m\u001b[1;33m\u001b[0m\u001b[0m\n\u001b[0;32m--> 147\u001b[0;31m         \u001b[0mself\u001b[0m\u001b[1;33m.\u001b[0m\u001b[0mlattice_positions\u001b[0m \u001b[1;33m=\u001b[0m \u001b[0mnp\u001b[0m\u001b[1;33m.\u001b[0m\u001b[0marray\u001b[0m\u001b[1;33m(\u001b[0m\u001b[0mself\u001b[0m\u001b[1;33m.\u001b[0m\u001b[0mlattice_positions\u001b[0m\u001b[1;33m)\u001b[0m\u001b[1;33m[\u001b[0m\u001b[0morder\u001b[0m\u001b[1;33m]\u001b[0m\u001b[1;33m\u001b[0m\u001b[0m\n\u001b[0m\u001b[1;32m    148\u001b[0m         \u001b[1;31m# number_types is number of *unique* objects\u001b[0m\u001b[1;33m\u001b[0m\u001b[1;33m\u001b[0m\u001b[0m\n\u001b[1;32m    149\u001b[0m         \u001b[0mself\u001b[0m\u001b[1;33m.\u001b[0m\u001b[0mnumber_types\u001b[0m \u001b[1;33m=\u001b[0m \u001b[0mlen\u001b[0m\u001b[1;33m(\u001b[0m\u001b[0mnp\u001b[0m\u001b[1;33m.\u001b[0m\u001b[0munique\u001b[0m\u001b[1;33m(\u001b[0m\u001b[0mlattice_types\u001b[0m\u001b[1;33m)\u001b[0m\u001b[1;33m)\u001b[0m\u001b[1;33m\u001b[0m\u001b[0m\n",
      "\u001b[0;31mIndexError\u001b[0m: index 1 is out of bounds for axis 1 with size 1"
     ]
    }
   ],
   "source": [
    "sphere = SphereNanoObject({'radius':5})\n",
    "sphere2 = SphereNanoObject({'radius':10})\n",
    "gen_pargs={\n",
    "    'lattice_spacing_a':10.0,\n",
    "    'lattice_spacing_b':None,\n",
    "    'lattice_spacing_c':10.0,\n",
    "    'alpha':90,\n",
    "    'beta':None,\n",
    "    'gamma':None,\n",
    "    'sigma_D':0.01,\n",
    "    'lattice_positions':None,\n",
    "   'lattice_coordinates':positions,\n",
    "    'symmetry':None,\n",
    "    'lattice_types':list([1,1,1,1,1,1])\n",
    "}\n",
    "\n",
    "lat_gen = Lattice((sphere,sphere2),10,10,10,90,90,90,0.01,None,positions,None,[1,2])"
   ]
  },
  {
   "cell_type": "code",
   "execution_count": 124,
   "metadata": {
    "collapsed": true
   },
   "outputs": [],
   "source": [
    "peak = PeakShape(delta=0.01, nu=0.05) "
   ]
  },
  {
   "cell_type": "code",
   "execution_count": 143,
   "metadata": {
    "collapsed": false
   },
   "outputs": [
    {
     "ename": "TypeError",
     "evalue": "an integer is required for the axis",
     "output_type": "error",
     "traceback": [
      "\u001b[0;31m---------------------------------------------------------------------------\u001b[0m",
      "\u001b[0;31mTypeError\u001b[0m                                 Traceback (most recent call last)",
      "\u001b[0;32m<ipython-input-143-8e5eeb91de02>\u001b[0m in \u001b[0;36m<module>\u001b[0;34m()\u001b[0m\n\u001b[0;32m----> 1\u001b[0;31m \u001b[0mnp\u001b[0m\u001b[1;33m.\u001b[0m\u001b[0marray\u001b[0m\u001b[1;33m(\u001b[0m\u001b[0mpositions\u001b[0m\u001b[1;33m)\u001b[0m\u001b[1;33m.\u001b[0m\u001b[0margsort\u001b[0m\u001b[1;33m(\u001b[0m\u001b[1;33m[\u001b[0m\u001b[1;36m1\u001b[0m\u001b[1;33m,\u001b[0m\u001b[1;36m2\u001b[0m\u001b[1;33m]\u001b[0m\u001b[1;33m)\u001b[0m\u001b[1;33m\u001b[0m\u001b[0m\n\u001b[0m",
      "\u001b[0;31mTypeError\u001b[0m: an integer is required for the axis"
     ]
    }
   ],
   "source": [
    "np.array(positions).argsort([1,2])"
   ]
  },
  {
   "cell_type": "code",
   "execution_count": 125,
   "metadata": {
    "collapsed": false
   },
   "outputs": [
    {
     "name": "stdout",
     "output_type": "stream",
     "text": [
      "Wall time: 1 s\n",
      "done!\n"
     ]
    }
   ],
   "source": [
    "q = np.linspace(.4, 1, 1000)\n",
    "%time lat_gen_int = lat_gen.intensity(q,peak)\n",
    "print('done!')"
   ]
  },
  {
   "cell_type": "code",
   "execution_count": 126,
   "metadata": {
    "collapsed": false
   },
   "outputs": [
    {
     "data": {
      "text/plain": [
       "[<matplotlib.lines.Line2D at 0x1d2f5f66a90>]"
      ]
     },
     "execution_count": 126,
     "metadata": {},
     "output_type": "execute_result"
    },
    {
     "data": {
      "image/png": "[encoded data removed]",
      "text/plain": [
       "<matplotlib.figure.Figure at 0x1d2f71543c8>"
      ]
     },
     "metadata": {},
     "output_type": "display_data"
    }
   ],
   "source": [
    "#BCC, FCC and SC\n",
    "plt.figure(0, figsize=(7,5));\n",
    "plt.clf()\n",
    "#ROI = [1e9,1e12,0,10]\n",
    "plt.title(\"Intensity\")\n",
    "plt.loglog(q, lat_gen_int,label=\"free\")\n"
   ]
  },
  {
   "cell_type": "code",
   "execution_count": null,
   "metadata": {
    "collapsed": true
   },
   "outputs": [],
   "source": [
    "#Visualize unit cell\n",
    "length=100\n",
    "extent = [-length, length, length, length]\n",
    "[x_bcc,y_bcc,z_bcc]=lat_bcc.projections(length)\n",
    "[x_fcc,y_fcc,z_fcc]=lat_fcc.projections(length)\n",
    "print(\"Finished Visualization work, lets go plot them\")"
   ]
  },
  {
   "cell_type": "code",
   "execution_count": null,
   "metadata": {
    "collapsed": true
   },
   "outputs": [],
   "source": [
    "plt.figure('Lattice Visual',figsize=(6,6))\n",
    "plt.subplot(331)\n",
    "plt.contourf(x_bcc)\n",
    "plt.subplot(332)\n",
    "plt.contourf(y_bcc)\n",
    "plt.subplot(333)\n",
    "plt.contourf(z_bcc)\n",
    "plt.subplot(334)\n",
    "plt.contour(x_fcc)\n",
    "plt.subplot(335)\n",
    "plt.contour(y_fcc)\n",
    "plt.subplot(336)\n",
    "plt.contour(z_fcc)"
   ]
  }
 ],
 "metadata": {
  "kernelspec": {
   "display_name": "Python 3",
   "language": "python",
   "name": "python3"
  },
  "language_info": {
   "codemirror_mode": {
    "name": "ipython",
    "version": 3
   },
   "file_extension": ".py",
   "mimetype": "text/x-python",
   "name": "python",
   "nbconvert_exporter": "python",
   "pygments_lexer": "ipython3",
   "version": "3.6.0"
  }
 },
 "nbformat": 4,
 "nbformat_minor": 2
}

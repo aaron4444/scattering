{
 "cells": [
  {
   "cell_type": "markdown",
   "metadata": {},
   "source": [
    "# Here is where you tell Python what Object you will be using and working with, adopted from Julien's code"
   ]
  },
  {
   "cell_type": "code",
   "execution_count": 1,
   "metadata": {
    "collapsed": false
   },
   "outputs": [],
   "source": [
    " import sys, shutil"
   ]
  },
  {
   "cell_type": "code",
   "execution_count": 2,
   "metadata": {
    "collapsed": false
   },
   "outputs": [],
   "source": [
    "from ScatterSim.NanoObjects import SphereNanoObject, PolydisperseNanoObject\n",
    "# We'll import a few lattices, cubic, FCC, BCC and Diamond\n",
    "from ScatterSim.LatticeObjects import SimpleCubic, FCCLattice, BCCLattice, DiamondTwoParticleLattice\n",
    "# import the peak shape for the peaks, tunable\n",
    "from ScatterSim.PeakShape import PeakShape\n",
    "from ScatterSim.old.BaseClasses import ExperimentalData1D\n",
    "\n",
    "import numpy as np\n",
    "import matplotlib.pyplot as plt\n",
    "%matplotlib inline\n"
   ]
  },
  {
   "cell_type": "markdown",
   "metadata": {},
   "source": [
    "# Load Data"
   ]
  },
  {
   "cell_type": "code",
   "execution_count": null,
   "metadata": {
    "collapsed": false
   },
   "outputs": [],
   "source": [
    "pwd #i have a folder in scattersim-examples called data_ye which has a simple_cubic intensity pattern"
   ]
  },
  {
   "cell_type": "code",
   "execution_count": 4,
   "metadata": {
    "collapsed": false
   },
   "outputs": [],
   "source": [
    "data_dir = './data_ye/'\n",
    "data_file = 'simple_cubic_2.txt'\n",
    "\n",
    "res = np.loadtxt(data_dir+data_file,  skiprows=1, comments=\"#\")\n"
   ]
  },
  {
   "cell_type": "code",
   "execution_count": 12,
   "metadata": {
    "collapsed": false
   },
   "outputs": [
    {
     "data": {
      "text/plain": [
       "[<matplotlib.lines.Line2D at 0x16574a242e8>]"
      ]
     },
     "execution_count": 12,
     "metadata": {},
     "output_type": "execute_result"
    },
    {
     "data": {
      "image/png": "[encoded data removed]",
      "text/plain": [
       "<matplotlib.figure.Figure at 0x165749a2358>"
      ]
     },
     "metadata": {},
     "output_type": "display_data"
    }
   ],
   "source": [
    "plt.plot(res[:,0],res[:,1])"
   ]
  },
  {
   "cell_type": "code",
   "execution_count": null,
   "metadata": {
    "collapsed": false
   },
   "outputs": [],
   "source": [
    "ptype = 'Intensity'\n",
    "area_of_interest = [0.0,1.2,0,2.5] #something you probably need to play around with\n",
    "\n",
    "plot_data = True\n",
    "\n",
    "#To figure out what to write here, keep the data in a folder in the same place as where you save this workbook and copy\n",
    "#the folder name (if nested) into the data_Dir and the file name is the .txt or .csv file with only the rows of interest, i.e. q and Intensity\n",
    "\n",
    "data_dir = './data_ye/'\n",
    "data_file = 'simple_cubic_2.txt'\n",
    "\n",
    "\n",
    "d = ExperimentalData1D()\n",
    "d.load_intensity_txt( data_dir+data_file, skiprows=1, subtract_minimum=True )\n",
    "d.set_structure_factor_asymptote( 0.75, 0.82 )\n",
    "\n",
    "g= d.plot(scaling=[0.0,0.75,1e2,5e3],xlog=True, ylog=True)\n",
    "#[0.0,1.4,5e-6,5e-5]\n"
   ]
  },
  {
   "cell_type": "code",
   "execution_count": null,
   "metadata": {
    "collapsed": false
   },
   "outputs": [],
   "source": []
  },
  {
   "cell_type": "code",
   "execution_count": null,
   "metadata": {
    "collapsed": false,
    "scrolled": true
   },
   "outputs": [],
   "source": [
    "#removes tail in the code version\n",
    "plt_save = False\n",
    "def exp_data_plot():\n",
    "    plt.figure('exp data', figsize=(7,5))    \n",
    "    #plt.clf()\n",
    "    q_list = d.q_vals\n",
    "    int_list = d.intensity_vals\n",
    "    plt.semilogy( q_list, int_list, color=(0,0,0), linewidth=2.0, )\n",
    "    plt.xlabel( r'$q \\, (\\mathrm{nm}^{-1})$', size=20 )\n",
    "    plt.ylabel( 'Intensity (a.u.)', size=20 )   \n",
    "    if plt_save == True:\n",
    "        plt.savefig('experimental data', bbox_inches=None, pad_inches=0.1)\n"
   ]
  },
  {
   "cell_type": "code",
   "execution_count": null,
   "metadata": {
    "collapsed": false
   },
   "outputs": [],
   "source": [
    "exp_data_plot()"
   ]
  },
  {
   "cell_type": "code",
   "execution_count": null,
   "metadata": {
    "collapsed": false
   },
   "outputs": [],
   "source": []
  },
  {
   "cell_type": "code",
   "execution_count": null,
   "metadata": {
    "collapsed": false
   },
   "outputs": [],
   "source": [
    "q_list = d.q_vals\n",
    "int_list = d.intensity_vals\n",
    "q = np.linspace(0.032, 1.56, len(q_list))\n",
    "peak = PeakShape(delta=0.01, nu=0.01) \n",
    "lattice_spacing = 55.\n",
    "\n",
    "pargs_sphere = {'radius' : 9.0}\n",
    "sphere = SphereNanoObject(pargs_sphere)\n",
    "\n",
    "\n",
    "sq_sphere= sphere.form_factor_squared_isotropic(q)"
   ]
  },
  {
   "cell_type": "code",
   "execution_count": null,
   "metadata": {
    "collapsed": false
   },
   "outputs": [],
   "source": [
    "%time lat_SC = SimpleCubic([sphere], lattice_spacing_a=lattice_spacing)\n",
    "%time Iq_SC = lat_SC.intensity(q, peak)\n",
    "%time Sq_SC = lat_SC.structure_factor_isotropic(q, peak)\n",
    "print(\"Finished calculating Simple Cubic\")"
   ]
  },
  {
   "cell_type": "code",
   "execution_count": null,
   "metadata": {
    "collapsed": false
   },
   "outputs": [],
   "source": [
    "plt.figure(2);\n",
    "plt.clf()\n",
    "plt.title(\"Simple Cubic Intensity\")\n",
    "plt.subplot(2,1,1)\n",
    "plt.loglog(q, Iq_SC)\n",
    "\n",
    "plt.subplot(2,1,2)\n",
    "plt.loglog(q,int_list)\n",
    "plt.loglog(q,Sq_SC,'red')"
   ]
  },
  {
   "cell_type": "markdown",
   "metadata": {},
   "source": [
    "## Fitting the Data with the Code"
   ]
  },
  {
   "cell_type": "code",
   "execution_count": null,
   "metadata": {
    "collapsed": true
   },
   "outputs": [],
   "source": []
  },
  {
   "cell_type": "code",
   "execution_count": null,
   "metadata": {
    "collapsed": true
   },
   "outputs": [],
   "source": []
  },
  {
   "cell_type": "markdown",
   "metadata": {},
   "source": [
    "## Polydisperse Simple Cubic Lattice, here we make the same lattice but build in polydispersity to the object"
   ]
  },
  {
   "cell_type": "code",
   "execution_count": null,
   "metadata": {
    "collapsed": false
   },
   "outputs": [],
   "source": [
    "sigma_D = .06\n",
    "\n",
    "pargs_polysphere = dict(radius= 7, sigma_R=.05)\n",
    "\n",
    "polysphere = PolydisperseNanoObject(SphereNanoObject, pargs_polysphere, argname='radius', argstdname='sigma_R')\n",
    "\n",
    "sq_polysphere = polysphere.form_factor_squared_isotropic(q)\n",
    "\n",
    "lat_SC_poly = SimpleCubic([polysphere], lattice_spacing_a=lattice_spacing, sigma_D=sigma_D)\n",
    "Iq_SC_poly = lat_SC_poly.intensity(q, peak)\n",
    "Sq_SC_poly = lat_SC_poly.structure_factor_isotropic(q, peak)\n",
    "print(\"Finished calculating Simple Cubic polysphere\")\n",
    "\n"
   ]
  },
  {
   "cell_type": "code",
   "execution_count": null,
   "metadata": {
    "collapsed": false
   },
   "outputs": [],
   "source": [
    "plt.figure(3);\n",
    "plt.clf()\n",
    "\n",
    "plt.subplot(2,1,1)\n",
    "plt.title(\"Simple Cubic Intensity\")\n",
    "plt.loglog(q, Iq_SC_poly, 'green', label='simulated intensity')\n",
    "plt.legend(loc='lower left')\n",
    "\n",
    "plt.subplot(2,1,2)\n",
    "plt.loglog(q,int_list, label='experimental intensity')\n",
    "plt.loglog(q,Sq_SC_poly,'red', label='structure factor')\n",
    "plt.legend(loc='lower left')"
   ]
  },
  {
   "cell_type": "markdown",
   "metadata": {},
   "source": [
    "## Reports and Summary Data  NOT ACTIVE YET"
   ]
  },
  {
   "cell_type": "code",
   "execution_count": null,
   "metadata": {
    "collapsed": false
   },
   "outputs": [],
   "source": [
    "\n",
    "send_pdf_code = False\n",
    "exp_name = 'test'\n",
    "if send_pdf_code == True:\n",
    "    if exp_name =='replace name here':\n",
    "        print('you need to put a uniqe name')\n",
    "    else:\n",
    "        %%bash ipython nbconvert --to=pdf '%s' % 'Simple_cubic_from_Ye_'+exp_name+'.ipynb'\n",
    "\n",
    "        \n",
    "#report lab \n",
    "# make a latex type document"
   ]
  },
  {
   "cell_type": "code",
   "execution_count": null,
   "metadata": {
    "collapsed": false
   },
   "outputs": [],
   "source": [
    "x = 'potato'\n",
    "print ('%s' % x) "
   ]
  },
  {
   "cell_type": "code",
   "execution_count": null,
   "metadata": {
    "collapsed": false
   },
   "outputs": [],
   "source": [
    "'%s' % 'Simple_cubic_from_Ye_'+exp_name+'.ipynb'\n"
   ]
  },
  {
   "cell_type": "code",
   "execution_count": null,
   "metadata": {
    "collapsed": true
   },
   "outputs": [],
   "source": [
    "#https://docs.scipy.org/doc/scipy-0.18.1/reference/generated/scipy.optimize.basinhopping.html"
   ]
  },
  {
   "cell_type": "code",
   "execution_count": null,
   "metadata": {
    "collapsed": false
   },
   "outputs": [],
   "source": [
    " \n"
   ]
  },
  {
   "cell_type": "code",
   "execution_count": null,
   "metadata": {
    "collapsed": false
   },
   "outputs": [],
   "source": []
  },
  {
   "cell_type": "code",
   "execution_count": null,
   "metadata": {
    "collapsed": true
   },
   "outputs": [],
   "source": []
  }
 ],
 "metadata": {
  "kernelspec": {
   "display_name": "Python 3",
   "language": "python",
   "name": "python3"
  },
  "language_info": {
   "codemirror_mode": {
    "name": "ipython",
    "version": 3
   },
   "file_extension": ".py",
   "mimetype": "text/x-python",
   "name": "python",
   "nbconvert_exporter": "python",
   "pygments_lexer": "ipython3",
   "version": "3.6.0"
  }
 },
 "nbformat": 4,
 "nbformat_minor": 2
}

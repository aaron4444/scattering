{
 "cells": [
  {
   "cell_type": "code",
   "execution_count": null,
   "metadata": {
    "collapsed": true
   },
   "outputs": [],
   "source": [
    "#! /usr/bin/env python\n",
    "# -*- coding: UTF-8 -*-\n",
    "from __future__ import division\n",
    "import os\n",
    "import sys\n",
    "import re\n",
    "\n",
    "from solid import *\n",
    "from solid.utils import *\n",
    "\n",
    "SEGMENTS = 48\n",
    "\n",
    "\n",
    "def basic_geometry():\n",
    "    # SolidPython code can look a lot like OpenSCAD code.  It also has\n",
    "    # some syntactic sugar built in that can make it look more pythonic.\n",
    "    # Here are two identical pieces of geometry, one left and one right.\n",
    "\n",
    "    # left_piece uses standard OpenSCAD grammar (note the commas between\n",
    "    # block elements; OpenSCAD doesn't require this)\n",
    "    left_piece =  union()(\n",
    "                        translate([-15, 0, 0])(\n",
    "                            cube([10, 5, 3], center=True)\n",
    "                        ),\n",
    "                        translate([-10, 0, 0])(\n",
    "                            difference()(\n",
    "                                cylinder(r=5, h=15, center=True),\n",
    "                                cylinder(r=4, h=16, center=True)\n",
    "                            )\n",
    "                        )\n",
    "                    )\n",
    "    \n",
    "    # Right piece uses a more Pythonic grammar.  + (plus) is equivalent to union(), \n",
    "    # - (minus) is equivalent to difference() and * (star) is equivalent to intersection\n",
    "    # solid.utils also defines up(), down(), left(), right(), forward(), and back()\n",
    "    # for common transforms.\n",
    "    right_piece = right(15)(cube([10, 5, 3], center=True))\n",
    "    cyl = cylinder(r=5, h=15, center=True) - cylinder(r=4, h=16, center=True)\n",
    "    right_piece += right(10)(cyl)\n",
    "\n",
    "    return union()(left_piece, right_piece)\n",
    "\n",
    "if __name__ == '__main__':\n",
    "    out_dir = sys.argv[1] if len(sys.argv) > 1 else os.curdir\n",
    "    file_out = os.path.join(out_dir, 'basic_geometry.scad')\n",
    "\n",
    "    a = basic_geometry()\n",
    "\n",
    "    print(\"%(__file__)s: SCAD file written to: \\n%(file_out)s\" % vars())\n",
    "\n",
    "    # Adding the file_header argument as shown allows you to change\n",
    "    # the detail of arcs by changing the SEGMENTS variable.  This can\n",
    "    # be expensive when making lots of small curves, but is otherwise\n",
    "    # useful.\n",
    "    scad_render_to_file(a, file_out, file_header='$fn = %s;' % SEGMENTS)\n",
    "\n"
   ]
  }
 ],
 "metadata": {
  "kernelspec": {
   "display_name": "Python 3",
   "language": "python",
   "name": "python3"
  },
  "language_info": {
   "codemirror_mode": {
    "name": "ipython",
    "version": 3
   },
   "file_extension": ".py",
   "mimetype": "text/x-python",
   "name": "python",
   "nbconvert_exporter": "python",
   "pygments_lexer": "ipython3",
   "version": "3.6.0"
  }
 },
 "nbformat": 4,
 "nbformat_minor": 2
}
